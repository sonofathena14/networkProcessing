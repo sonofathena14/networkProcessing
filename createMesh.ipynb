{
 "cells": [
  {
   "cell_type": "code",
   "execution_count": 1,
   "id": "fd5a403a",
   "metadata": {},
   "outputs": [],
   "source": [
    "import numpy as np\n",
    "import pyvista as pv\n",
    "import pandas as pd\n",
    "import scipy.io"
   ]
  },
  {
   "cell_type": "code",
   "execution_count": 2,
   "id": "998229d8",
   "metadata": {},
   "outputs": [],
   "source": [
    "def nodesExtractor(name): #extracts nodes and their corresponding information\n",
    "    file_path = 'Networks/Network_Vessels_' + name +'.mat'\n",
    "    matlab_data = scipy.io.loadmat(file_path)\n",
    "    # Extract the 'connectivity' field from the 'Data' structured array\n",
    "    data_structure = matlab_data['nodesC2']\n",
    "    # Reshape or ensure it's a proper 2D array (if required)\n",
    "    nodes_data = data_structure.squeeze()\n",
    "    # Create a DataFrame from the connectivity data\n",
    "    nodes_df = pd.DataFrame(nodes_data, columns=['NodeID', 'X', 'Y', 'Z', 'Degree'])\n",
    "    # Save the DataFrame to inspect it\n",
    "    return nodes_df\n",
    "\n",
    "def term_nodes_loc(name,rootID):\n",
    "    nodes = nodesExtractor(name)\n",
    "    deg1 = nodes[(nodes['Degree'] == 1)]\n",
    "    termNodes = deg1[deg1['NodeID']!=rootID]\n",
    "    return termNodes[['X','Y','Z']]"
   ]
  },
  {
   "cell_type": "code",
   "execution_count": 3,
   "id": "3355f6f7",
   "metadata": {},
   "outputs": [],
   "source": [
    "terms = term_nodes_loc('m3p4_060407',369).astype(float)\n",
    "term_loc = terms.to_numpy()"
   ]
  },
  {
   "cell_type": "code",
   "execution_count": 4,
   "id": "616f850e",
   "metadata": {},
   "outputs": [
    {
     "data": {
      "application/vnd.jupyter.widget-view+json": {
       "model_id": "0ee8cf9c343b4e65b78bf97cc4bac057",
       "version_major": 2,
       "version_minor": 0
      },
      "text/plain": [
       "Widget(value='<iframe src=\"http://localhost:50241/index.html?ui=P_0x147aed8b0_0&reconnect=auto\" class=\"pyvista…"
      ]
     },
     "metadata": {},
     "output_type": "display_data"
    }
   ],
   "source": [
    "cloud = pv.PolyData(term_loc)\n",
    "cloud.plot()"
   ]
  },
  {
   "cell_type": "code",
   "execution_count": 5,
   "id": "ae1b0a0f",
   "metadata": {},
   "outputs": [
    {
     "data": {
      "application/vnd.jupyter.widget-view+json": {
       "model_id": "943e45133de44ba182edf036fba9dff5",
       "version_major": 2,
       "version_minor": 0
      },
      "text/plain": [
       "Widget(value='<iframe src=\"http://localhost:50241/index.html?ui=P_0x1476e5d30_1&reconnect=auto\" class=\"pyvista…"
      ]
     },
     "metadata": {},
     "output_type": "display_data"
    }
   ],
   "source": [
    "volume = cloud.delaunay_3d(alpha=75.)\n",
    "shell = volume.extract_geometry()\n",
    "shell.plot()"
   ]
  },
  {
   "cell_type": "code",
   "execution_count": null,
   "id": "c09ec47d",
   "metadata": {},
   "outputs": [],
   "source": []
  }
 ],
 "metadata": {
  "kernelspec": {
   "display_name": ".venv",
   "language": "python",
   "name": "python3"
  },
  "language_info": {
   "codemirror_mode": {
    "name": "ipython",
    "version": 3
   },
   "file_extension": ".py",
   "mimetype": "text/x-python",
   "name": "python",
   "nbconvert_exporter": "python",
   "pygments_lexer": "ipython3",
   "version": "3.9.6"
  }
 },
 "nbformat": 4,
 "nbformat_minor": 5
}
