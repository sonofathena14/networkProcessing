{
 "cells": [
  {
   "cell_type": "code",
   "execution_count": 2,
   "metadata": {},
   "outputs": [],
   "source": [
    "import numpy as np\n",
    "import pandas as pd\n",
    "import scipy.io\n",
    "import matplotlib.pyplot as plt\n",
    "import warnings"
   ]
  },
  {
   "cell_type": "code",
   "execution_count": null,
   "metadata": {},
   "outputs": [],
   "source": [
    "def dataExtractor(name):\n",
    "    file_path = 'FluidsInput/FluidInput_' + name +'.mat'\n",
    "    matlab_data = scipy.io.loadmat(file_path)\n",
    "    # Extract the 'connectivity' field from the 'Data' structured array\n",
    "    data_structure = matlab_data['Data']\n",
    "    connectivity_raw = data_structure['connectivity'][0, 0]  # Access the data (adjust indexing if needed)\n",
    "    # Reshape or ensure it's a proper 2D array (if required)\n",
    "    connectivity_data = connectivity_raw.squeeze()\n",
    "    # Create a DataFrame from the connectivity data\n",
    "    connectivity_df = pd.DataFrame(connectivity_data, columns=['Parent', 'Daughter1', 'Daughter2', 'Daughter3'])\n",
    "    # Save the DataFrame to inspect it\n",
    "    return connectivity_df"
   ]
  },
  {
   "cell_type": "code",
   "execution_count": 5,
   "metadata": {},
   "outputs": [
    {
     "name": "stdout",
     "output_type": "stream",
     "text": [
      "     Parent  Daughter1  Daughter2  Daughter3\n",
      "0         0         90         93          0\n",
      "1         1          0          0          0\n",
      "2         2          0          0          0\n",
      "3         3          0          0          0\n",
      "4         4          0          0          0\n",
      "..      ...        ...        ...        ...\n",
      "166     166        112        167          0\n",
      "167     167         70        135          0\n",
      "168     168          1         44          0\n",
      "169     169         32         81         87\n",
      "170     170        153        160          0\n",
      "\n",
      "[171 rows x 4 columns]\n"
     ]
    }
   ],
   "source": [
    "name = 'PVB046_arteries'\n",
    "connectivity = dataExtractor(name)\n",
    "print(connectivity)"
   ]
  },
  {
   "cell_type": "code",
   "execution_count": null,
   "metadata": {},
   "outputs": [],
   "source": []
  }
 ],
 "metadata": {
  "kernelspec": {
   "display_name": ".venv",
   "language": "python",
   "name": "python3"
  },
  "language_info": {
   "codemirror_mode": {
    "name": "ipython",
    "version": 3
   },
   "file_extension": ".py",
   "mimetype": "text/x-python",
   "name": "python",
   "nbconvert_exporter": "python",
   "pygments_lexer": "ipython3",
   "version": "3.9.6"
  }
 },
 "nbformat": 4,
 "nbformat_minor": 2
}
